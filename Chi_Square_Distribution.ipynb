{
  "nbformat": 4,
  "nbformat_minor": 0,
  "metadata": {
    "colab": {
      "name": "Chi-Square-Distribution.ipynb",
      "provenance": [],
      "authorship_tag": "ABX9TyNhKe7tUsNPX0nQ95ed4+u+",
      "include_colab_link": true
    },
    "kernelspec": {
      "name": "python3",
      "display_name": "Python 3"
    }
  },
  "cells": [
    {
      "cell_type": "markdown",
      "metadata": {
        "id": "view-in-github",
        "colab_type": "text"
      },
      "source": [
        "<a href=\"https://colab.research.google.com/github/DevashishDutta/CS809/blob/master/Chi_Square_Distribution.ipynb\" target=\"_parent\"><img src=\"https://colab.research.google.com/assets/colab-badge.svg\" alt=\"Open In Colab\"/></a>"
      ]
    },
    {
      "cell_type": "code",
      "metadata": {
        "id": "RjcpfWS3xUae",
        "colab_type": "code",
        "colab": {}
      },
      "source": [
        "# Chi-Square Distribution"
      ],
      "execution_count": 1,
      "outputs": []
    },
    {
      "cell_type": "code",
      "metadata": {
        "id": "N_h8rlKQxivF",
        "colab_type": "code",
        "colab": {}
      },
      "source": [
        "from scipy import stats as stat"
      ],
      "execution_count": 2,
      "outputs": []
    },
    {
      "cell_type": "code",
      "metadata": {
        "id": "1uS1pxZRxnxE",
        "colab_type": "code",
        "colab": {
          "base_uri": "https://localhost:8080/",
          "height": 136
        },
        "outputId": "ff386ea4-57ee-42d2-d893-9ee31bdd7d83"
      },
      "source": [
        "class Chi_SqrDistribution:\n",
        "  def __init__(self, chi1, chidof):\n",
        "    self.chi_dist = chi1\n",
        "    self.chi_dof = chidof\n",
        "    \n",
        "\n",
        "  def print_data(self):\n",
        "    self.chi_prob = stat.chi2.cdf(self.chi_dist, self.chi_dof)\n",
        "    print(f\"Chisquare probability for {self.chi_dist} is : {self.chi_prob}\")\n",
        "    s = self.chi_prob\n",
        "    p = self.chi_dof\n",
        "    return s,p \n",
        "\n",
        "\n",
        "\n",
        "\n",
        "class Chi_SqrDistribution_Value:\n",
        "  def __init__(self, b, c):\n",
        "    self.chi_val = b\n",
        "    self.chi_dof = c\n",
        "    \n",
        "  \n",
        "  def printing_data(self):\n",
        "    print(f\"Value of chi0 for which chisquare probability is equal to {self.chi_val}: {stat.chi2.ppf(self.chi_val,self.chi_dof)}\")\n",
        "\n",
        "\n",
        "\n",
        "\n",
        "\n",
        "def input_data():\n",
        "  chi0=float(input(\"Enter the input value for chisquare distribution: \"))\n",
        "  dof=int(input(\"Enter degree of freedom: \"))\n",
        "  return chi0,dof\n",
        "\n",
        "\n",
        "chi1, chidof = input_data()\n",
        "chi2 = Chi_SqrDistribution(chi1, chidof)\n",
        "a, i= chi2.print_data()\n",
        "print(\"\\nThe Score value for chisquare distribution: \", a)\n",
        "print(\"Degree of freedom: \", i)\n",
        "chi3= Chi_SqrDistribution_Value(a, i)\n",
        "chi3.printing_data()"
      ],
      "execution_count": 7,
      "outputs": [
        {
          "output_type": "stream",
          "text": [
            "Enter the input value for chisquare distribution: 4.5\n",
            "Enter degree of freedom: 1\n",
            "Chisquare probability for 4.5 is : 0.9661051464753108\n",
            "\n",
            "The Score value for chisquare distribution:  0.9661051464753108\n",
            "Degree of freedom:  1\n",
            "Value of chi0 for which chisquare probability is equal to 0.9661051464753108: 4.500000000000005\n"
          ],
          "name": "stdout"
        }
      ]
    }
  ]
}