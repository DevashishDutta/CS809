{
  "nbformat": 4,
  "nbformat_minor": 0,
  "metadata": {
    "colab": {
      "name": "T-Distribution.ipynb",
      "provenance": [],
      "authorship_tag": "ABX9TyNzbt6LWLQZuIyYrHLhF+vk",
      "include_colab_link": true
    },
    "kernelspec": {
      "name": "python3",
      "display_name": "Python 3"
    }
  },
  "cells": [
    {
      "cell_type": "markdown",
      "metadata": {
        "id": "view-in-github",
        "colab_type": "text"
      },
      "source": [
        "<a href=\"https://colab.research.google.com/github/DevashishDutta/CS809/blob/master/T_Distribution.ipynb\" target=\"_parent\"><img src=\"https://colab.research.google.com/assets/colab-badge.svg\" alt=\"Open In Colab\"/></a>"
      ]
    },
    {
      "cell_type": "code",
      "metadata": {
        "id": "C3N23RT_7WJK",
        "colab_type": "code",
        "colab": {}
      },
      "source": [
        "# T-Distribution"
      ],
      "execution_count": 1,
      "outputs": []
    },
    {
      "cell_type": "code",
      "metadata": {
        "id": "rt8pcBTJ7qo9",
        "colab_type": "code",
        "colab": {}
      },
      "source": [
        "from scipy import stats as stat"
      ],
      "execution_count": 2,
      "outputs": []
    },
    {
      "cell_type": "code",
      "metadata": {
        "id": "olEbQLLH7487",
        "colab_type": "code",
        "colab": {
          "base_uri": "https://localhost:8080/",
          "height": 136
        },
        "outputId": "bfd61aa9-99de-4743-a9ac-7a1aa5ae61e0"
      },
      "source": [
        "class T_Distribution:\n",
        "  def __init__(self, t1, tdof):\n",
        "    self.t_dist = t1\n",
        "    self.t_dof = tdof\n",
        "    \n",
        "\n",
        "  def print_data(self):\n",
        "    self.t_prob = stat.t.cdf(self.t_dist, self.t_dof)\n",
        "    print(f\"probability of T<=T0 is: {self.t_dist} is : {self.t_prob}\")\n",
        "    s = self.t_prob\n",
        "    p = self.t_dof\n",
        "    return s,p \n",
        "\n",
        "\n",
        "\n",
        "\n",
        "class T_Distribution_Value:\n",
        "  def __init__(self, b, c):\n",
        "    self.t_val = b\n",
        "    self.t_dof = c\n",
        "    \n",
        "  \n",
        "  def printing_data(self):\n",
        "    print(f\"Value of t0 for which T distribution P(T<=T0)is equal to {self.t_val}: {stat.t.ppf(self.t_val,self.t_dof)}\")\n",
        "\n",
        "\n",
        "\n",
        "\n",
        "def input_data():\n",
        "  t0=float(input(\"Enter the input value for T distribution: \"))\n",
        "  dof=int(input(\"Enter degree of freedom: \"))\n",
        "  return t0,dof\n",
        "\n",
        "\n",
        "t1, tdof = input_data()\n",
        "t2 = T_Distribution(t1, tdof)\n",
        "a, i= t2.print_data()\n",
        "print(\"\\nT-Score for T-distribution: : \", a)\n",
        "print(\"Degree of freedom: \", i)\n",
        "t3= T_Distribution_Value(a, i)\n",
        "t3.printing_data()"
      ],
      "execution_count": 5,
      "outputs": [
        {
          "output_type": "stream",
          "text": [
            "Enter the input value for T distribution: 3.2\n",
            "Enter degree of freedom: 1\n",
            "probability of T<=T0 is: 3.2 is : 0.9035887520207704\n",
            "\n",
            "T-Score for T-distribution: :  0.9035887520207704\n",
            "Degree of freedom:  1\n",
            "Value of t0 for which T distribution P(T<=T0)is equal to 0.9035887520207704: 3.200000000034311\n"
          ],
          "name": "stdout"
        }
      ]
    }
  ]
}