{
  "nbformat": 4,
  "nbformat_minor": 0,
  "metadata": {
    "colab": {
      "name": "F-Distribution.ipynb",
      "provenance": [],
      "authorship_tag": "ABX9TyNp3uuwniVFsHT3LAtKo6Wy",
      "include_colab_link": true
    },
    "kernelspec": {
      "name": "python3",
      "display_name": "Python 3"
    }
  },
  "cells": [
    {
      "cell_type": "markdown",
      "metadata": {
        "id": "view-in-github",
        "colab_type": "text"
      },
      "source": [
        "<a href=\"https://colab.research.google.com/github/DevashishDutta/CS809/blob/master/F_Distribution.ipynb\" target=\"_parent\"><img src=\"https://colab.research.google.com/assets/colab-badge.svg\" alt=\"Open In Colab\"/></a>"
      ]
    },
    {
      "cell_type": "code",
      "metadata": {
        "id": "LNjzpT9dA3fX",
        "colab_type": "code",
        "colab": {}
      },
      "source": [
        "# F-Distribution"
      ],
      "execution_count": 9,
      "outputs": []
    },
    {
      "cell_type": "code",
      "metadata": {
        "id": "iSwNCyHUA88O",
        "colab_type": "code",
        "colab": {}
      },
      "source": [
        "from scipy import stats as stat"
      ],
      "execution_count": 8,
      "outputs": []
    },
    {
      "cell_type": "code",
      "metadata": {
        "id": "fMjpQ26xBHJI",
        "colab_type": "code",
        "colab": {
          "base_uri": "https://localhost:8080/",
          "height": 170
        },
        "outputId": "d0aa1805-3e1d-4e28-95e0-5c36cb54fca5"
      },
      "source": [
        "class F_Distribution:\n",
        "  def __init__(self, f1, fdof1, fdof2):\n",
        "    self.f_dist = f1\n",
        "    self.f_dof1 = fdof1\n",
        "    self.f_dof2 = fdof2\n",
        "\n",
        "  def print_data(self):\n",
        "    self.f_prob = stat.f.cdf(self.f_dist, self.f_dof1, self.f_dof2)\n",
        "    print(f\"probability of F<=F0 is: {self.f_dist} is : {self.f_prob}\")\n",
        "    s = self.f_prob\n",
        "    p = self.f_dof1\n",
        "    r = self.f_dof2\n",
        "    return s,p,r\n",
        "\n",
        "\n",
        "\n",
        "\n",
        "class F_Distribution_Value:\n",
        "  def __init__(self, b, c, d):\n",
        "    self.f_val = b\n",
        "    self.f_dof1 = c\n",
        "    self.f_dof2 = d\n",
        "\n",
        "    \n",
        "  \n",
        "  def printing_data(self):\n",
        "    print(f\"Value of f0 for which F distribution P(F<=F0)is equal to {self.f_val}: {stat.f.ppf(self.f_val,self.f_dof1, self.f_dof2)}\")\n",
        "\n",
        "\n",
        "\n",
        "\n",
        "def input_data():\n",
        "  f0=float(input(\"Enter value for F-distribution: \"))\n",
        "  dof1=int(input(\"Enter degree of freedom v1: \"))\n",
        "  dof2=int(input(\"Enter degree of freedom v2: \"))\n",
        "  return f0,dof1,dof2\n",
        "\n",
        "\n",
        "f1, fdof1, fdof2 = input_data()\n",
        "f2 = F_Distribution(f1, fdof1, fdof2)\n",
        "a, b, c = f2.print_data()\n",
        "print(\"\\nF-Score for F-distribution: : \", a)\n",
        "print(\"Degree of freedom v1: \", b)\n",
        "print(\"Degree of freedom v2: \", c)\n",
        "\n",
        "f3= F_Distribution_Value(a, b, c)\n",
        "f3.printing_data()"
      ],
      "execution_count": 11,
      "outputs": [
        {
          "output_type": "stream",
          "text": [
            "Enter value for F-distribution: 12.7\n",
            "Enter degree of freedom v1: 4\n",
            "Enter degree of freedom v2: 7\n",
            "probability of F<=F0 is: 12.7 is : 0.9974803329698494\n",
            "\n",
            "F-Score for F-distribution: :  0.9974803329698494\n",
            "Degree of freedom v1:  4\n",
            "Degree of freedom v2:  7\n",
            "Value of f0 for which F distribution P(F<=F0)is equal to 0.9974803329698494: 12.70000000000005\n"
          ],
          "name": "stdout"
        }
      ]
    }
  ]
}