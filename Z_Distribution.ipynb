{
  "nbformat": 4,
  "nbformat_minor": 0,
  "metadata": {
    "colab": {
      "name": "Z-Distribution.ipynb",
      "provenance": [],
      "authorship_tag": "ABX9TyNgxwP/TmSBE8V6HoOmjcES",
      "include_colab_link": true
    },
    "kernelspec": {
      "name": "python3",
      "display_name": "Python 3"
    }
  },
  "cells": [
    {
      "cell_type": "markdown",
      "metadata": {
        "id": "view-in-github",
        "colab_type": "text"
      },
      "source": [
        "<a href=\"https://colab.research.google.com/github/DevashishDutta/CS809/blob/master/Z_Distribution.ipynb\" target=\"_parent\"><img src=\"https://colab.research.google.com/assets/colab-badge.svg\" alt=\"Open In Colab\"/></a>"
      ]
    },
    {
      "cell_type": "code",
      "metadata": {
        "id": "5VsB7Az4eIcz",
        "colab_type": "code",
        "colab": {}
      },
      "source": [
        "# Z-Distribution"
      ],
      "execution_count": 33,
      "outputs": []
    },
    {
      "cell_type": "code",
      "metadata": {
        "id": "aNpYNDdIeOIC",
        "colab_type": "code",
        "colab": {}
      },
      "source": [
        "from scipy import stats as stat"
      ],
      "execution_count": 34,
      "outputs": []
    },
    {
      "cell_type": "code",
      "metadata": {
        "id": "rKCjqQdfeeCe",
        "colab_type": "code",
        "colab": {
          "base_uri": "https://localhost:8080/",
          "height": 102
        },
        "outputId": "e339624c-6cfc-4f68-c26f-83ab55485f45"
      },
      "source": [
        "class Z_Distribution:\n",
        "  def __init__(self, z):\n",
        "    self.z_dist = z\n",
        "    \n",
        "\n",
        "  def print_data(self):\n",
        "    self.z = stat.norm.cdf(self.z_dist)\n",
        "    print(f\"probability P(Z<=Z0) for input {self.z_dist} is : {self.z}\")\n",
        "    s = self.z\n",
        "    return s \n",
        "\n",
        "\n",
        "def input_data():\n",
        "  Z0=float(input(\"Enter the input value of z-score distribution: \"))\n",
        "  return Z0\n",
        "\n",
        "\n",
        "\n",
        "class Z_Distribution_Value:\n",
        "  def __init__(self, b):\n",
        "    self.z_distr = b\n",
        "    \n",
        "    \n",
        "  \n",
        "  def printing_data(self):\n",
        "    print(f\"value of Z0 for which P(Z<=Z0)={self.z_distr} is : {stat.norm.ppf(self.z_distr)}\")\n",
        "\n",
        "\n",
        "\n",
        "\n",
        "\n",
        "def input_data():\n",
        "  Z0=float(input(\"Enter the input value of z-score distribution: \"))\n",
        "  return Z0\n",
        "\n",
        "\n",
        "Z1 = input_data()\n",
        "Z2 = Z_Distribution(Z1)\n",
        "a= Z2.print_data()\n",
        "print(\"\\nThe Score value for Z distribution\", a)\n",
        "Z3= Z_Distribution_Value(a)\n",
        "Z3.printing_data()"
      ],
      "execution_count": 35,
      "outputs": [
        {
          "output_type": "stream",
          "text": [
            "Enter the input value of z-score distribution: 5.0\n",
            "probability P(Z<=Z0) for input 5.0 is : 0.9999997133484281\n",
            "\n",
            "The Score value for Z distribution 0.9999997133484281\n",
            "value of Z0 for which P(Z<=Z0)=0.9999997133484281 is : 4.999999999970176\n"
          ],
          "name": "stdout"
        }
      ]
    }
  ]
}